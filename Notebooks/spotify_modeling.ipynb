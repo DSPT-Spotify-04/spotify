{
 "cells": [
  {
   "cell_type": "markdown",
   "metadata": {},
   "source": [
    "# Spotify Modeling\n",
    "**Jacob Torres**"
   ]
  },
  {
   "cell_type": "code",
   "execution_count": 1,
   "metadata": {},
   "outputs": [],
   "source": [
    "\"\"\"Imports\"\"\"\n",
    "\n",
    "# Data manipulation\n",
    "import numpy as np\n",
    "import pandas as pd\n",
    "import sqlite3\n",
    "\n",
    "# Modeling\n",
    "from sklearn.ensemble import GradientBoostingClassifier, RandomForestClassifier\n",
    "from sklearn.feature_selection import f_classif, SelectKBest\n",
    "from sklearn.model_selection import GridSearchCV, train_test_split\n",
    "from sklearn.neighbors import KNeighborsClassifier\n",
    "from sklearn.pipeline import make_pipeline\n",
    "from sklearn.preprocessing import StandardScaler"
   ]
  },
  {
   "cell_type": "markdown",
   "metadata": {},
   "source": [
    "---\n",
    "## Data Collection and Massaging"
   ]
  },
  {
   "cell_type": "code",
   "execution_count": 2,
   "metadata": {},
   "outputs": [
    {
     "name": "stdout",
     "output_type": "stream",
     "text": [
      "\n",
      "    Liked songs: 6610\n",
      "    Total songs: 16610\n",
      "\n"
     ]
    }
   ],
   "source": [
    "# Load song data from database\n",
    "DB_FILE = '../app/spotify_db.sqlite3'\n",
    "GET_TRAIN_QUERY = 'select * from train;'\n",
    "GET_LIKED_QUERY = 'select * from liked_songs_jt;'\n",
    "conn = sqlite3.connect(DB_FILE)\n",
    "\n",
    "train_df = pd.read_sql(GET_TRAIN_QUERY, conn)\n",
    "liked_df = pd.read_sql(GET_LIKED_QUERY, conn)\n",
    "\n",
    "num_likes = liked_df.shape[0]\n",
    "num_songs = train_df.shape[0]\n",
    "print(f\"\"\"\n",
    "    Liked songs: {num_likes}\n",
    "    Total songs: {num_songs}\n",
    "\"\"\")"
   ]
  },
  {
   "cell_type": "code",
   "execution_count": 3,
   "metadata": {},
   "outputs": [],
   "source": [
    "# Create feature matrix and target vector\n",
    "X = train_df.drop(['index', 'name', 'id', 'mode'], axis=1)\n",
    "y = pd.Series(\n",
    "    list(np.zeros(num_songs - num_likes, np.int64)) +\n",
    "    list(np.ones(num_likes, np.int64))\n",
    ")\n",
    "\n",
    "assert len(X) == len(y)"
   ]
  },
  {
   "cell_type": "code",
   "execution_count": 4,
   "metadata": {},
   "outputs": [
    {
     "data": {
      "text/plain": [
       "acousticness        0\n",
       "danceability        0\n",
       "duration_ms         0\n",
       "energy              0\n",
       "tempo               0\n",
       "instrumentalness    0\n",
       "key                 0\n",
       "liveness            0\n",
       "loudness            0\n",
       "valence             0\n",
       "speechiness         0\n",
       "dtype: int64"
      ]
     },
     "execution_count": 4,
     "metadata": {},
     "output_type": "execute_result"
    }
   ],
   "source": [
    "X.isnull().sum()"
   ]
  },
  {
   "cell_type": "code",
   "execution_count": 5,
   "metadata": {},
   "outputs": [
    {
     "data": {
      "text/plain": [
       "0    60.204696\n",
       "1    39.795304\n",
       "dtype: float64"
      ]
     },
     "execution_count": 5,
     "metadata": {},
     "output_type": "execute_result"
    }
   ],
   "source": [
    "y.value_counts(normalize=True) * 100"
   ]
  },
  {
   "cell_type": "code",
   "execution_count": 6,
   "metadata": {},
   "outputs": [
    {
     "data": {
      "text/html": [
       "<div>\n",
       "<style scoped>\n",
       "    .dataframe tbody tr th:only-of-type {\n",
       "        vertical-align: middle;\n",
       "    }\n",
       "\n",
       "    .dataframe tbody tr th {\n",
       "        vertical-align: top;\n",
       "    }\n",
       "\n",
       "    .dataframe thead th {\n",
       "        text-align: right;\n",
       "    }\n",
       "</style>\n",
       "<table border=\"1\" class=\"dataframe\">\n",
       "  <thead>\n",
       "    <tr style=\"text-align: right;\">\n",
       "      <th></th>\n",
       "      <th>acousticness</th>\n",
       "      <th>danceability</th>\n",
       "      <th>duration_ms</th>\n",
       "      <th>energy</th>\n",
       "      <th>tempo</th>\n",
       "      <th>instrumentalness</th>\n",
       "      <th>key</th>\n",
       "      <th>liveness</th>\n",
       "      <th>loudness</th>\n",
       "      <th>valence</th>\n",
       "      <th>speechiness</th>\n",
       "    </tr>\n",
       "  </thead>\n",
       "  <tbody>\n",
       "    <tr>\n",
       "      <th>count</th>\n",
       "      <td>16610.000000</td>\n",
       "      <td>16610.000000</td>\n",
       "      <td>1.661000e+04</td>\n",
       "      <td>16610.000000</td>\n",
       "      <td>16610.000000</td>\n",
       "      <td>16610.000000</td>\n",
       "      <td>16610.000000</td>\n",
       "      <td>16610.000000</td>\n",
       "      <td>16610.000000</td>\n",
       "      <td>16610.000000</td>\n",
       "      <td>16610.000000</td>\n",
       "    </tr>\n",
       "    <tr>\n",
       "      <th>mean</th>\n",
       "      <td>0.462809</td>\n",
       "      <td>0.570025</td>\n",
       "      <td>2.270494e+05</td>\n",
       "      <td>0.495101</td>\n",
       "      <td>116.776362</td>\n",
       "      <td>0.122530</td>\n",
       "      <td>5.157255</td>\n",
       "      <td>0.188872</td>\n",
       "      <td>-10.504243</td>\n",
       "      <td>0.519277</td>\n",
       "      <td>0.093196</td>\n",
       "    </tr>\n",
       "    <tr>\n",
       "      <th>std</th>\n",
       "      <td>0.354704</td>\n",
       "      <td>0.168414</td>\n",
       "      <td>1.038709e+05</td>\n",
       "      <td>0.245836</td>\n",
       "      <td>30.333933</td>\n",
       "      <td>0.269373</td>\n",
       "      <td>3.534552</td>\n",
       "      <td>0.157127</td>\n",
       "      <td>5.218244</td>\n",
       "      <td>0.251389</td>\n",
       "      <td>0.139699</td>\n",
       "    </tr>\n",
       "    <tr>\n",
       "      <th>min</th>\n",
       "      <td>0.000003</td>\n",
       "      <td>0.000000</td>\n",
       "      <td>1.665300e+04</td>\n",
       "      <td>0.000020</td>\n",
       "      <td>0.000000</td>\n",
       "      <td>0.000000</td>\n",
       "      <td>0.000000</td>\n",
       "      <td>0.015000</td>\n",
       "      <td>-52.220000</td>\n",
       "      <td>0.000000</td>\n",
       "      <td>0.000000</td>\n",
       "    </tr>\n",
       "    <tr>\n",
       "      <th>25%</th>\n",
       "      <td>0.105000</td>\n",
       "      <td>0.459000</td>\n",
       "      <td>1.763882e+05</td>\n",
       "      <td>0.300000</td>\n",
       "      <td>93.717000</td>\n",
       "      <td>0.000000</td>\n",
       "      <td>2.000000</td>\n",
       "      <td>0.097200</td>\n",
       "      <td>-13.369000</td>\n",
       "      <td>0.321000</td>\n",
       "      <td>0.034500</td>\n",
       "    </tr>\n",
       "    <tr>\n",
       "      <th>50%</th>\n",
       "      <td>0.434000</td>\n",
       "      <td>0.582500</td>\n",
       "      <td>2.128055e+05</td>\n",
       "      <td>0.490000</td>\n",
       "      <td>114.016000</td>\n",
       "      <td>0.000085</td>\n",
       "      <td>5.000000</td>\n",
       "      <td>0.124000</td>\n",
       "      <td>-9.561000</td>\n",
       "      <td>0.514000</td>\n",
       "      <td>0.045400</td>\n",
       "    </tr>\n",
       "    <tr>\n",
       "      <th>75%</th>\n",
       "      <td>0.823000</td>\n",
       "      <td>0.694000</td>\n",
       "      <td>2.551835e+05</td>\n",
       "      <td>0.688000</td>\n",
       "      <td>135.306000</td>\n",
       "      <td>0.028500</td>\n",
       "      <td>8.000000</td>\n",
       "      <td>0.228000</td>\n",
       "      <td>-6.615000</td>\n",
       "      <td>0.723000</td>\n",
       "      <td>0.080200</td>\n",
       "    </tr>\n",
       "    <tr>\n",
       "      <th>max</th>\n",
       "      <td>0.996000</td>\n",
       "      <td>0.977000</td>\n",
       "      <td>3.551152e+06</td>\n",
       "      <td>1.000000</td>\n",
       "      <td>221.741000</td>\n",
       "      <td>0.999000</td>\n",
       "      <td>11.000000</td>\n",
       "      <td>0.996000</td>\n",
       "      <td>0.101000</td>\n",
       "      <td>1.000000</td>\n",
       "      <td>0.968000</td>\n",
       "    </tr>\n",
       "  </tbody>\n",
       "</table>\n",
       "</div>"
      ],
      "text/plain": [
       "       acousticness  danceability   duration_ms        energy         tempo  \\\n",
       "count  16610.000000  16610.000000  1.661000e+04  16610.000000  16610.000000   \n",
       "mean       0.462809      0.570025  2.270494e+05      0.495101    116.776362   \n",
       "std        0.354704      0.168414  1.038709e+05      0.245836     30.333933   \n",
       "min        0.000003      0.000000  1.665300e+04      0.000020      0.000000   \n",
       "25%        0.105000      0.459000  1.763882e+05      0.300000     93.717000   \n",
       "50%        0.434000      0.582500  2.128055e+05      0.490000    114.016000   \n",
       "75%        0.823000      0.694000  2.551835e+05      0.688000    135.306000   \n",
       "max        0.996000      0.977000  3.551152e+06      1.000000    221.741000   \n",
       "\n",
       "       instrumentalness           key      liveness      loudness  \\\n",
       "count      16610.000000  16610.000000  16610.000000  16610.000000   \n",
       "mean           0.122530      5.157255      0.188872    -10.504243   \n",
       "std            0.269373      3.534552      0.157127      5.218244   \n",
       "min            0.000000      0.000000      0.015000    -52.220000   \n",
       "25%            0.000000      2.000000      0.097200    -13.369000   \n",
       "50%            0.000085      5.000000      0.124000     -9.561000   \n",
       "75%            0.028500      8.000000      0.228000     -6.615000   \n",
       "max            0.999000     11.000000      0.996000      0.101000   \n",
       "\n",
       "            valence   speechiness  \n",
       "count  16610.000000  16610.000000  \n",
       "mean       0.519277      0.093196  \n",
       "std        0.251389      0.139699  \n",
       "min        0.000000      0.000000  \n",
       "25%        0.321000      0.034500  \n",
       "50%        0.514000      0.045400  \n",
       "75%        0.723000      0.080200  \n",
       "max        1.000000      0.968000  "
      ]
     },
     "execution_count": 6,
     "metadata": {},
     "output_type": "execute_result"
    }
   ],
   "source": [
    "X.describe(include='all')"
   ]
  },
  {
   "cell_type": "code",
   "execution_count": 8,
   "metadata": {},
   "outputs": [
    {
     "name": "stdout",
     "output_type": "stream",
     "text": [
      "\n",
      "    X_train: (11627, 11)\n",
      "    X_test: (4983, 11)\n",
      "    y_train: (11627,)\n",
      "    y_test: (4983,)\n",
      "\n"
     ]
    }
   ],
   "source": [
    "X_train, X_test, y_train, y_test = train_test_split(\n",
    "    X, y, test_size=0.3\n",
    ")\n",
    "\n",
    "print(f\"\"\"\n",
    "    X_train: {X_train.shape}\n",
    "    X_test: {X_test.shape}\n",
    "    y_train: {y_train.shape}\n",
    "    y_test: {y_test.shape}\n",
    "\"\"\")"
   ]
  },
  {
   "cell_type": "code",
   "execution_count": 16,
   "metadata": {},
   "outputs": [],
   "source": [
    "# Feature selection\n",
    "selector = SelectKBest(f_classif, k=5)\n",
    "selector.fit(X_train, y_train)\n",
    "feature_mask = selector.get_support()"
   ]
  },
  {
   "cell_type": "code",
   "execution_count": 20,
   "metadata": {},
   "outputs": [
    {
     "name": "stdout",
     "output_type": "stream",
     "text": [
      "[229.86449267 883.05657746  43.56816091  55.24863678   1.44303414\n",
      " 514.71981128   3.56291113 218.42555759 669.36032357  14.37483877\n",
      "   9.35929062]\n",
      "(11627, 5)\n"
     ]
    },
    {
     "data": {
      "text/html": [
       "<div>\n",
       "<style scoped>\n",
       "    .dataframe tbody tr th:only-of-type {\n",
       "        vertical-align: middle;\n",
       "    }\n",
       "\n",
       "    .dataframe tbody tr th {\n",
       "        vertical-align: top;\n",
       "    }\n",
       "\n",
       "    .dataframe thead th {\n",
       "        text-align: right;\n",
       "    }\n",
       "</style>\n",
       "<table border=\"1\" class=\"dataframe\">\n",
       "  <thead>\n",
       "    <tr style=\"text-align: right;\">\n",
       "      <th></th>\n",
       "      <th>acousticness</th>\n",
       "      <th>danceability</th>\n",
       "      <th>instrumentalness</th>\n",
       "      <th>liveness</th>\n",
       "      <th>loudness</th>\n",
       "    </tr>\n",
       "  </thead>\n",
       "  <tbody>\n",
       "    <tr>\n",
       "      <th>14565</th>\n",
       "      <td>0.8440</td>\n",
       "      <td>0.593</td>\n",
       "      <td>0.000005</td>\n",
       "      <td>0.127</td>\n",
       "      <td>-14.029</td>\n",
       "    </tr>\n",
       "    <tr>\n",
       "      <th>11839</th>\n",
       "      <td>0.0952</td>\n",
       "      <td>0.611</td>\n",
       "      <td>0.000000</td>\n",
       "      <td>0.110</td>\n",
       "      <td>-6.372</td>\n",
       "    </tr>\n",
       "    <tr>\n",
       "      <th>5100</th>\n",
       "      <td>0.6380</td>\n",
       "      <td>0.575</td>\n",
       "      <td>0.000000</td>\n",
       "      <td>0.525</td>\n",
       "      <td>-2.944</td>\n",
       "    </tr>\n",
       "    <tr>\n",
       "      <th>6461</th>\n",
       "      <td>0.9780</td>\n",
       "      <td>0.287</td>\n",
       "      <td>0.620000</td>\n",
       "      <td>0.137</td>\n",
       "      <td>-18.274</td>\n",
       "    </tr>\n",
       "    <tr>\n",
       "      <th>13729</th>\n",
       "      <td>0.0292</td>\n",
       "      <td>0.761</td>\n",
       "      <td>0.000002</td>\n",
       "      <td>0.390</td>\n",
       "      <td>-3.068</td>\n",
       "    </tr>\n",
       "  </tbody>\n",
       "</table>\n",
       "</div>"
      ],
      "text/plain": [
       "       acousticness  danceability  instrumentalness  liveness  loudness\n",
       "14565        0.8440         0.593          0.000005     0.127   -14.029\n",
       "11839        0.0952         0.611          0.000000     0.110    -6.372\n",
       "5100         0.6380         0.575          0.000000     0.525    -2.944\n",
       "6461         0.9780         0.287          0.620000     0.137   -18.274\n",
       "13729        0.0292         0.761          0.000002     0.390    -3.068"
      ]
     },
     "execution_count": 20,
     "metadata": {},
     "output_type": "execute_result"
    }
   ],
   "source": [
    "print(selector.scores_)\n",
    "best_features = X_train.columns[feature_mask]\n",
    "\n",
    "X_train = X_train[list(best_features)]\n",
    "X_test = X_test[list(best_features)]\n",
    "\n",
    "print(X_train.shape)\n",
    "X_train.head()"
   ]
  },
  {
   "cell_type": "markdown",
   "metadata": {},
   "source": [
    "---\n",
    "## Model Building"
   ]
  },
  {
   "cell_type": "code",
   "execution_count": 21,
   "metadata": {},
   "outputs": [],
   "source": [
    "rf_pipe = make_pipeline(\n",
    "    StandardScaler(),\n",
    "    RandomForestClassifier(),\n",
    "    verbose=True\n",
    ")\n",
    "\n",
    "gb_pipe = make_pipeline(\n",
    "    StandardScaler(),\n",
    "    GradientBoostingClassifier(),\n",
    "    verbose=True\n",
    ")\n",
    "\n",
    "kn_pipe = make_pipeline(\n",
    "    StandardScaler(),\n",
    "    KNeighborsClassifier(),\n",
    "    verbose=True\n",
    ")"
   ]
  },
  {
   "cell_type": "code",
   "execution_count": 39,
   "metadata": {},
   "outputs": [
    {
     "data": {
      "text/plain": [
       "GridSearchCV(estimator=RandomForestClassifier(), n_jobs=-1,\n",
       "             param_grid={'max_depth': [None, 50, 100],\n",
       "                         'max_features': [None, 'auto', 3],\n",
       "                         'n_estimators': [100, 250, 500]},\n",
       "             return_train_score=True)"
      ]
     },
     "execution_count": 39,
     "metadata": {},
     "output_type": "execute_result"
    }
   ],
   "source": [
    "rf_grid = {\n",
    "    'n_estimators': [100, 250, 500],\n",
    "    'max_depth': [None, 50, 100],\n",
    "    'max_features': [None, 'auto', 3]\n",
    "}\n",
    "\n",
    "rf_gs = GridSearchCV(RandomForestClassifier(), rf_grid, n_jobs=-1, return_train_score=True)\n",
    "\n",
    "rf_gs.fit(X_train, y_train)"
   ]
  },
  {
   "cell_type": "code",
   "execution_count": 40,
   "metadata": {},
   "outputs": [
    {
     "data": {
      "text/plain": [
       "{'max_depth': None, 'max_features': 'auto', 'n_estimators': 500}"
      ]
     },
     "execution_count": 40,
     "metadata": {},
     "output_type": "execute_result"
    }
   ],
   "source": [
    "rf_gs.best_params_"
   ]
  },
  {
   "cell_type": "code",
   "execution_count": 38,
   "metadata": {},
   "outputs": [
    {
     "data": {
      "text/plain": [
       "False"
      ]
     },
     "execution_count": 38,
     "metadata": {},
     "output_type": "execute_result"
    }
   ],
   "source": [
    "gb_params = {\n",
    "    \n",
    "}"
   ]
  }
 ],
 "metadata": {
  "kernelspec": {
   "display_name": "Python 3",
   "language": "python",
   "name": "python3"
  },
  "language_info": {
   "codemirror_mode": {
    "name": "ipython",
    "version": 3
   },
   "file_extension": ".py",
   "mimetype": "text/x-python",
   "name": "python",
   "nbconvert_exporter": "python",
   "pygments_lexer": "ipython3",
   "version": "3.8.5"
  }
 },
 "nbformat": 4,
 "nbformat_minor": 2
}
