{
 "cells": [
  {
   "cell_type": "markdown",
   "metadata": {},
   "source": [
    "# Spotify Modeling\n",
    "**Jacob Torres**"
   ]
  },
  {
   "cell_type": "code",
   "execution_count": 20,
   "metadata": {},
   "outputs": [],
   "source": [
    "\"\"\"Imports\"\"\"\n",
    "\n",
    "# Data manipulation\n",
    "import numpy as np\n",
    "import pandas as pd\n",
    "import sqlite3\n",
    "\n",
    "# Modeling\n",
    "from sklearn.ensemble import GradientBoostingClassifier\n",
    "from sklearn.feature_selection import f_classif, SelectKBest\n",
    "from sklearn.model_selection import cross_val_score, GridSearchCV, train_test_split\n",
    "from sklearn.neighbors import KNeighborsClassifier\n",
    "from sklearn.pipeline import Pipeline\n",
    "from sklearn.preprocessing import StandardScaler"
   ]
  },
  {
   "cell_type": "markdown",
   "metadata": {},
   "source": [
    "---\n",
    "## Data Collection and Massaging"
   ]
  },
  {
   "cell_type": "code",
   "execution_count": 2,
   "metadata": {},
   "outputs": [
    {
     "name": "stdout",
     "output_type": "stream",
     "text": [
      "\n",
      "    Liked songs: 6610\n",
      "    Total songs: 16610\n",
      "\n"
     ]
    }
   ],
   "source": [
    "# Load song data from database\n",
    "DB_FILE = '../app/spotify_db.sqlite3'\n",
    "GET_TRAIN_QUERY = 'select * from train;'\n",
    "GET_LIKED_QUERY = 'select * from liked_songs_jt;'\n",
    "conn = sqlite3.connect(DB_FILE)\n",
    "\n",
    "train_df = pd.read_sql(GET_TRAIN_QUERY, conn)\n",
    "liked_df = pd.read_sql(GET_LIKED_QUERY, conn)\n",
    "\n",
    "num_likes = liked_df.shape[0]\n",
    "num_songs = train_df.shape[0]\n",
    "print(f\"\"\"\n",
    "    Liked songs: {num_likes}\n",
    "    Total songs: {num_songs}\n",
    "\"\"\")"
   ]
  },
  {
   "cell_type": "code",
   "execution_count": 3,
   "metadata": {},
   "outputs": [],
   "source": [
    "# Create feature matrix and target vector\n",
    "X = train_df.drop(['index', 'name', 'id', 'mode'], axis=1)\n",
    "y = pd.Series(\n",
    "    list(np.zeros(num_songs - num_likes, np.int64)) +\n",
    "    list(np.ones(num_likes, np.int64))\n",
    ")\n",
    "\n",
    "assert len(X) == len(y)"
   ]
  },
  {
   "cell_type": "code",
   "execution_count": 4,
   "metadata": {},
   "outputs": [
    {
     "data": {
      "text/plain": [
       "acousticness        0\n",
       "danceability        0\n",
       "duration_ms         0\n",
       "energy              0\n",
       "tempo               0\n",
       "instrumentalness    0\n",
       "key                 0\n",
       "liveness            0\n",
       "loudness            0\n",
       "valence             0\n",
       "speechiness         0\n",
       "dtype: int64"
      ]
     },
     "execution_count": 4,
     "metadata": {},
     "output_type": "execute_result"
    }
   ],
   "source": [
    "X.isnull().sum()"
   ]
  },
  {
   "cell_type": "code",
   "execution_count": 5,
   "metadata": {},
   "outputs": [
    {
     "data": {
      "text/plain": [
       "0    60.204696\n",
       "1    39.795304\n",
       "dtype: float64"
      ]
     },
     "execution_count": 5,
     "metadata": {},
     "output_type": "execute_result"
    }
   ],
   "source": [
    "y.value_counts(normalize=True) * 100"
   ]
  },
  {
   "cell_type": "code",
   "execution_count": 6,
   "metadata": {},
   "outputs": [
    {
     "data": {
      "text/html": [
       "<div>\n",
       "<style scoped>\n",
       "    .dataframe tbody tr th:only-of-type {\n",
       "        vertical-align: middle;\n",
       "    }\n",
       "\n",
       "    .dataframe tbody tr th {\n",
       "        vertical-align: top;\n",
       "    }\n",
       "\n",
       "    .dataframe thead th {\n",
       "        text-align: right;\n",
       "    }\n",
       "</style>\n",
       "<table border=\"1\" class=\"dataframe\">\n",
       "  <thead>\n",
       "    <tr style=\"text-align: right;\">\n",
       "      <th></th>\n",
       "      <th>acousticness</th>\n",
       "      <th>danceability</th>\n",
       "      <th>duration_ms</th>\n",
       "      <th>energy</th>\n",
       "      <th>tempo</th>\n",
       "      <th>instrumentalness</th>\n",
       "      <th>key</th>\n",
       "      <th>liveness</th>\n",
       "      <th>loudness</th>\n",
       "      <th>valence</th>\n",
       "      <th>speechiness</th>\n",
       "    </tr>\n",
       "  </thead>\n",
       "  <tbody>\n",
       "    <tr>\n",
       "      <th>count</th>\n",
       "      <td>16610.000000</td>\n",
       "      <td>16610.000000</td>\n",
       "      <td>1.661000e+04</td>\n",
       "      <td>16610.000000</td>\n",
       "      <td>16610.000000</td>\n",
       "      <td>16610.000000</td>\n",
       "      <td>16610.000000</td>\n",
       "      <td>16610.000000</td>\n",
       "      <td>16610.000000</td>\n",
       "      <td>16610.000000</td>\n",
       "      <td>16610.000000</td>\n",
       "    </tr>\n",
       "    <tr>\n",
       "      <th>mean</th>\n",
       "      <td>0.462809</td>\n",
       "      <td>0.570025</td>\n",
       "      <td>2.270494e+05</td>\n",
       "      <td>0.495101</td>\n",
       "      <td>116.776362</td>\n",
       "      <td>0.122530</td>\n",
       "      <td>5.157255</td>\n",
       "      <td>0.188872</td>\n",
       "      <td>-10.504243</td>\n",
       "      <td>0.519277</td>\n",
       "      <td>0.093196</td>\n",
       "    </tr>\n",
       "    <tr>\n",
       "      <th>std</th>\n",
       "      <td>0.354704</td>\n",
       "      <td>0.168414</td>\n",
       "      <td>1.038709e+05</td>\n",
       "      <td>0.245836</td>\n",
       "      <td>30.333933</td>\n",
       "      <td>0.269373</td>\n",
       "      <td>3.534552</td>\n",
       "      <td>0.157127</td>\n",
       "      <td>5.218244</td>\n",
       "      <td>0.251389</td>\n",
       "      <td>0.139699</td>\n",
       "    </tr>\n",
       "    <tr>\n",
       "      <th>min</th>\n",
       "      <td>0.000003</td>\n",
       "      <td>0.000000</td>\n",
       "      <td>1.665300e+04</td>\n",
       "      <td>0.000020</td>\n",
       "      <td>0.000000</td>\n",
       "      <td>0.000000</td>\n",
       "      <td>0.000000</td>\n",
       "      <td>0.015000</td>\n",
       "      <td>-52.220000</td>\n",
       "      <td>0.000000</td>\n",
       "      <td>0.000000</td>\n",
       "    </tr>\n",
       "    <tr>\n",
       "      <th>25%</th>\n",
       "      <td>0.105000</td>\n",
       "      <td>0.459000</td>\n",
       "      <td>1.763882e+05</td>\n",
       "      <td>0.300000</td>\n",
       "      <td>93.717000</td>\n",
       "      <td>0.000000</td>\n",
       "      <td>2.000000</td>\n",
       "      <td>0.097200</td>\n",
       "      <td>-13.369000</td>\n",
       "      <td>0.321000</td>\n",
       "      <td>0.034500</td>\n",
       "    </tr>\n",
       "    <tr>\n",
       "      <th>50%</th>\n",
       "      <td>0.434000</td>\n",
       "      <td>0.582500</td>\n",
       "      <td>2.128055e+05</td>\n",
       "      <td>0.490000</td>\n",
       "      <td>114.016000</td>\n",
       "      <td>0.000085</td>\n",
       "      <td>5.000000</td>\n",
       "      <td>0.124000</td>\n",
       "      <td>-9.561000</td>\n",
       "      <td>0.514000</td>\n",
       "      <td>0.045400</td>\n",
       "    </tr>\n",
       "    <tr>\n",
       "      <th>75%</th>\n",
       "      <td>0.823000</td>\n",
       "      <td>0.694000</td>\n",
       "      <td>2.551835e+05</td>\n",
       "      <td>0.688000</td>\n",
       "      <td>135.306000</td>\n",
       "      <td>0.028500</td>\n",
       "      <td>8.000000</td>\n",
       "      <td>0.228000</td>\n",
       "      <td>-6.615000</td>\n",
       "      <td>0.723000</td>\n",
       "      <td>0.080200</td>\n",
       "    </tr>\n",
       "    <tr>\n",
       "      <th>max</th>\n",
       "      <td>0.996000</td>\n",
       "      <td>0.977000</td>\n",
       "      <td>3.551152e+06</td>\n",
       "      <td>1.000000</td>\n",
       "      <td>221.741000</td>\n",
       "      <td>0.999000</td>\n",
       "      <td>11.000000</td>\n",
       "      <td>0.996000</td>\n",
       "      <td>0.101000</td>\n",
       "      <td>1.000000</td>\n",
       "      <td>0.968000</td>\n",
       "    </tr>\n",
       "  </tbody>\n",
       "</table>\n",
       "</div>"
      ],
      "text/plain": [
       "       acousticness  danceability   duration_ms        energy         tempo  \\\n",
       "count  16610.000000  16610.000000  1.661000e+04  16610.000000  16610.000000   \n",
       "mean       0.462809      0.570025  2.270494e+05      0.495101    116.776362   \n",
       "std        0.354704      0.168414  1.038709e+05      0.245836     30.333933   \n",
       "min        0.000003      0.000000  1.665300e+04      0.000020      0.000000   \n",
       "25%        0.105000      0.459000  1.763882e+05      0.300000     93.717000   \n",
       "50%        0.434000      0.582500  2.128055e+05      0.490000    114.016000   \n",
       "75%        0.823000      0.694000  2.551835e+05      0.688000    135.306000   \n",
       "max        0.996000      0.977000  3.551152e+06      1.000000    221.741000   \n",
       "\n",
       "       instrumentalness           key      liveness      loudness  \\\n",
       "count      16610.000000  16610.000000  16610.000000  16610.000000   \n",
       "mean           0.122530      5.157255      0.188872    -10.504243   \n",
       "std            0.269373      3.534552      0.157127      5.218244   \n",
       "min            0.000000      0.000000      0.015000    -52.220000   \n",
       "25%            0.000000      2.000000      0.097200    -13.369000   \n",
       "50%            0.000085      5.000000      0.124000     -9.561000   \n",
       "75%            0.028500      8.000000      0.228000     -6.615000   \n",
       "max            0.999000     11.000000      0.996000      0.101000   \n",
       "\n",
       "            valence   speechiness  \n",
       "count  16610.000000  16610.000000  \n",
       "mean       0.519277      0.093196  \n",
       "std        0.251389      0.139699  \n",
       "min        0.000000      0.000000  \n",
       "25%        0.321000      0.034500  \n",
       "50%        0.514000      0.045400  \n",
       "75%        0.723000      0.080200  \n",
       "max        1.000000      0.968000  "
      ]
     },
     "execution_count": 6,
     "metadata": {},
     "output_type": "execute_result"
    }
   ],
   "source": [
    "X.describe(include='all')"
   ]
  },
  {
   "cell_type": "code",
   "execution_count": 7,
   "metadata": {},
   "outputs": [
    {
     "name": "stdout",
     "output_type": "stream",
     "text": [
      "\n",
      "    X_train: (11627, 11)\n",
      "    X_test: (4983, 11)\n",
      "    y_train: (11627,)\n",
      "    y_test: (4983,)\n",
      "\n"
     ]
    }
   ],
   "source": [
    "X_train, X_test, y_train, y_test = train_test_split(\n",
    "    X, y, test_size=0.3\n",
    ")\n",
    "\n",
    "print(f\"\"\"\n",
    "    X_train: {X_train.shape}\n",
    "    X_test: {X_test.shape}\n",
    "    y_train: {y_train.shape}\n",
    "    y_test: {y_test.shape}\n",
    "\"\"\")"
   ]
  },
  {
   "cell_type": "code",
   "execution_count": 8,
   "metadata": {},
   "outputs": [],
   "source": [
    "# Feature selection\n",
    "selector = SelectKBest(f_classif, k=5)\n",
    "selector.fit(X_train, y_train)\n",
    "feature_mask = selector.get_support()"
   ]
  },
  {
   "cell_type": "code",
   "execution_count": 9,
   "metadata": {},
   "outputs": [
    {
     "name": "stdout",
     "output_type": "stream",
     "text": [
      "[214.96067391 870.85694893  37.78627015  48.39582964   3.97898621\n",
      " 489.92870568   2.66118808 228.14477409 645.01210739  16.44361497\n",
      "  11.75367942]\n",
      "(11627, 5)\n"
     ]
    },
    {
     "data": {
      "text/html": [
       "<div>\n",
       "<style scoped>\n",
       "    .dataframe tbody tr th:only-of-type {\n",
       "        vertical-align: middle;\n",
       "    }\n",
       "\n",
       "    .dataframe tbody tr th {\n",
       "        vertical-align: top;\n",
       "    }\n",
       "\n",
       "    .dataframe thead th {\n",
       "        text-align: right;\n",
       "    }\n",
       "</style>\n",
       "<table border=\"1\" class=\"dataframe\">\n",
       "  <thead>\n",
       "    <tr style=\"text-align: right;\">\n",
       "      <th></th>\n",
       "      <th>acousticness</th>\n",
       "      <th>danceability</th>\n",
       "      <th>instrumentalness</th>\n",
       "      <th>liveness</th>\n",
       "      <th>loudness</th>\n",
       "    </tr>\n",
       "  </thead>\n",
       "  <tbody>\n",
       "    <tr>\n",
       "      <th>10392</th>\n",
       "      <td>0.7650</td>\n",
       "      <td>0.687</td>\n",
       "      <td>0.000008</td>\n",
       "      <td>0.0897</td>\n",
       "      <td>-11.649</td>\n",
       "    </tr>\n",
       "    <tr>\n",
       "      <th>15467</th>\n",
       "      <td>0.1520</td>\n",
       "      <td>0.615</td>\n",
       "      <td>0.000000</td>\n",
       "      <td>0.1090</td>\n",
       "      <td>-4.808</td>\n",
       "    </tr>\n",
       "    <tr>\n",
       "      <th>7127</th>\n",
       "      <td>0.0958</td>\n",
       "      <td>0.702</td>\n",
       "      <td>0.000670</td>\n",
       "      <td>0.1000</td>\n",
       "      <td>-10.903</td>\n",
       "    </tr>\n",
       "    <tr>\n",
       "      <th>6120</th>\n",
       "      <td>0.4070</td>\n",
       "      <td>0.415</td>\n",
       "      <td>0.000501</td>\n",
       "      <td>0.1140</td>\n",
       "      <td>-4.988</td>\n",
       "    </tr>\n",
       "    <tr>\n",
       "      <th>11754</th>\n",
       "      <td>0.1670</td>\n",
       "      <td>0.743</td>\n",
       "      <td>0.009510</td>\n",
       "      <td>0.1030</td>\n",
       "      <td>-11.174</td>\n",
       "    </tr>\n",
       "  </tbody>\n",
       "</table>\n",
       "</div>"
      ],
      "text/plain": [
       "       acousticness  danceability  instrumentalness  liveness  loudness\n",
       "10392        0.7650         0.687          0.000008    0.0897   -11.649\n",
       "15467        0.1520         0.615          0.000000    0.1090    -4.808\n",
       "7127         0.0958         0.702          0.000670    0.1000   -10.903\n",
       "6120         0.4070         0.415          0.000501    0.1140    -4.988\n",
       "11754        0.1670         0.743          0.009510    0.1030   -11.174"
      ]
     },
     "execution_count": 9,
     "metadata": {},
     "output_type": "execute_result"
    }
   ],
   "source": [
    "print(selector.scores_)\n",
    "best_features = X_train.columns[feature_mask]\n",
    "\n",
    "X_train = X_train[list(best_features)]\n",
    "X_test = X_test[list(best_features)]\n",
    "\n",
    "print(X_train.shape)\n",
    "X_train.head()"
   ]
  },
  {
   "cell_type": "markdown",
   "metadata": {},
   "source": [
    "---\n",
    "## Model Selection and Evaluation"
   ]
  },
  {
   "cell_type": "markdown",
   "metadata": {},
   "source": [
    "### Gradient Boosting Classifier"
   ]
  },
  {
   "cell_type": "code",
   "execution_count": 10,
   "metadata": {},
   "outputs": [],
   "source": [
    "gb_pipe = Pipeline(\n",
    "    [\n",
    "        ('scaler', StandardScaler()),\n",
    "        ('clf', GradientBoostingClassifier(warm_start=True))\n",
    "    ]\n",
    ")"
   ]
  },
  {
   "cell_type": "code",
   "execution_count": 11,
   "metadata": {},
   "outputs": [
    {
     "name": "stdout",
     "output_type": "stream",
     "text": [
      "Fitting 5 folds for each of 6 candidates, totalling 30 fits\n",
      "Wall time: 4min 26s\n"
     ]
    },
    {
     "data": {
      "text/plain": [
       "GridSearchCV(estimator=Pipeline(steps=[('scaler', StandardScaler()),\n",
       "                                       ('clf',\n",
       "                                        GradientBoostingClassifier(warm_start=True))]),\n",
       "             n_jobs=-1,\n",
       "             param_grid={'clf__max_depth': [5, 10],\n",
       "                         'clf__n_estimators': [100, 500, 1000]},\n",
       "             verbose=1)"
      ]
     },
     "execution_count": 11,
     "metadata": {},
     "output_type": "execute_result"
    }
   ],
   "source": [
    "%%time\n",
    "gb_grid = {\n",
    "    'clf__n_estimators': [100, 500, 1000],\n",
    "    'clf__max_depth': [5, 10]\n",
    "}\n",
    "\n",
    "gb_gs = GridSearchCV(gb_pipe, gb_grid, n_jobs=-1)\n",
    "\n",
    "gb_gs.fit(X_train, y_train)"
   ]
  },
  {
   "cell_type": "code",
   "execution_count": 12,
   "metadata": {},
   "outputs": [
    {
     "name": "stdout",
     "output_type": "stream",
     "text": [
      "{'clf__max_depth': 10, 'clf__n_estimators': 1000}\n"
     ]
    }
   ],
   "source": [
    "print(gb_gs.best_params_)"
   ]
  },
  {
   "cell_type": "code",
   "execution_count": 13,
   "metadata": {},
   "outputs": [
    {
     "name": "stdout",
     "output_type": "stream",
     "text": [
      "{'ccp_alpha': 0.0, 'criterion': 'friedman_mse', 'init': None, 'learning_rate': 0.1, 'loss': 'deviance', 'max_depth': 10, 'max_features': None, 'max_leaf_nodes': None, 'min_impurity_decrease': 0.0, 'min_impurity_split': None, 'min_samples_leaf': 1, 'min_samples_split': 2, 'min_weight_fraction_leaf': 0.0, 'n_estimators': 1000, 'n_iter_no_change': None, 'random_state': None, 'subsample': 1.0, 'tol': 0.0001, 'validation_fraction': 0.1, 'verbose': 0, 'warm_start': True}\n"
     ]
    }
   ],
   "source": [
    "gb_pipe['clf'].n_estimators = 1000\n",
    "gb_pipe['clf'].max_depth = 10\n",
    "\n",
    "print(gb_pipe['clf'].get_params())"
   ]
  },
  {
   "cell_type": "code",
   "execution_count": 21,
   "metadata": {},
   "outputs": [
    {
     "name": "stdout",
     "output_type": "stream",
     "text": [
      "[0.98839209 0.98194325 0.98322581 0.98580645 0.98580645]\n"
     ]
    }
   ],
   "source": [
    "scores = cross_val_score(gb_pipe, X_train, y_train, n_jobs=-1)\n",
    "print(scores.max())"
   ]
  },
  {
   "cell_type": "markdown",
   "metadata": {},
   "source": [
    "### K Neighbors Classifier"
   ]
  },
  {
   "cell_type": "code",
   "execution_count": 14,
   "metadata": {},
   "outputs": [],
   "source": [
    "kn_pipe = Pipeline(\n",
    "    [\n",
    "        ('scaler', StandardScaler()),\n",
    "        ('clf', KNeighborsClassifier())\n",
    "    ]\n",
    ")"
   ]
  },
  {
   "cell_type": "code",
   "execution_count": 15,
   "metadata": {},
   "outputs": [
    {
     "name": "stdout",
     "output_type": "stream",
     "text": [
      "Fitting 5 folds for each of 6 candidates, totalling 30 fits\n",
      "Wall time: 4.57 s\n"
     ]
    },
    {
     "data": {
      "text/plain": [
       "GridSearchCV(estimator=Pipeline(steps=[('scaler', StandardScaler()),\n",
       "                                       ('clf', KNeighborsClassifier())]),\n",
       "             n_jobs=-1,\n",
       "             param_grid={'clf__n_neighbors': [3, 5, 7],\n",
       "                         'clf__weights': ['uniform', 'distance']},\n",
       "             verbose=1)"
      ]
     },
     "execution_count": 15,
     "metadata": {},
     "output_type": "execute_result"
    }
   ],
   "source": [
    "%%time\n",
    "kn_grid = {\n",
    "    'clf__n_neighbors': [3, 5, 7],\n",
    "    'clf__weights': ['uniform', 'distance']\n",
    "}\n",
    "\n",
    "kn_gs = GridSearchCV(kn_pipe, kn_grid, n_jobs=-1)\n",
    "\n",
    "kn_gs.fit(X_train, y_train)"
   ]
  },
  {
   "cell_type": "code",
   "execution_count": 16,
   "metadata": {},
   "outputs": [
    {
     "name": "stdout",
     "output_type": "stream",
     "text": [
      "{'clf__n_neighbors': 3, 'clf__weights': 'distance'}\n"
     ]
    }
   ],
   "source": [
    "print(kn_gs.best_params_)"
   ]
  },
  {
   "cell_type": "code",
   "execution_count": 17,
   "metadata": {},
   "outputs": [
    {
     "name": "stdout",
     "output_type": "stream",
     "text": [
      "{'algorithm': 'auto', 'leaf_size': 30, 'metric': 'minkowski', 'metric_params': None, 'n_jobs': None, 'n_neighbors': 3, 'p': 2, 'weights': 'distance'}\n"
     ]
    }
   ],
   "source": [
    "kn_pipe['clf'].n_neighbors = 3\n",
    "kn_pipe['clf'].weights = 'distance'\n",
    "\n",
    "print(kn_pipe['clf'].get_params())"
   ]
  },
  {
   "cell_type": "code",
   "execution_count": 22,
   "metadata": {},
   "outputs": [
    {
     "name": "stdout",
     "output_type": "stream",
     "text": [
      "0.8989681857265692\n"
     ]
    }
   ],
   "source": [
    "scores = cross_val_score(kn_pipe, X_train, y_train, n_jobs=-1)\n",
    "print(scores.max())"
   ]
  }
 ],
 "metadata": {
  "kernelspec": {
   "display_name": "Python 3",
   "language": "python",
   "name": "python3"
  },
  "language_info": {
   "codemirror_mode": {
    "name": "ipython",
    "version": 3
   },
   "file_extension": ".py",
   "mimetype": "text/x-python",
   "name": "python",
   "nbconvert_exporter": "python",
   "pygments_lexer": "ipython3",
   "version": "3.8.5"
  }
 },
 "nbformat": 4,
 "nbformat_minor": 2
}
