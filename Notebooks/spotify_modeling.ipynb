{
 "cells": [
  {
   "cell_type": "markdown",
   "metadata": {},
   "source": [
    "# Spotify Modeling\n",
    "**Jacob Torres**"
   ]
  },
  {
   "cell_type": "code",
   "execution_count": 1,
   "metadata": {},
   "outputs": [],
   "source": [
    "\"\"\"Imports\"\"\"\n",
    "\n",
    "# Data manipulation\n",
    "import numpy as np\n",
    "import pandas as pd\n",
    "import sqlite3\n",
    "\n",
    "# Modeling\n",
    "import pickle\n",
    "from sklearn.ensemble import GradientBoostingClassifier\n",
    "from sklearn.feature_selection import f_classif, SelectKBest\n",
    "from sklearn.model_selection import cross_val_score, GridSearchCV, train_test_split\n",
    "from sklearn.neighbors import KNeighborsClassifier\n",
    "from sklearn.pipeline import Pipeline\n",
    "from sklearn.preprocessing import StandardScaler"
   ]
  },
  {
   "cell_type": "markdown",
   "metadata": {},
   "source": [
    "---\n",
    "## Data Collection and Massaging"
   ]
  },
  {
   "cell_type": "code",
   "execution_count": 2,
   "metadata": {},
   "outputs": [
    {
     "name": "stdout",
     "output_type": "stream",
     "text": [
      "\n",
      "    Liked songs: 5874\n",
      "    Total songs: 15874\n",
      "\n"
     ]
    }
   ],
   "source": [
    "# Load song data from database\n",
    "DB_FILE = '../app/spotify_db.sqlite3'\n",
    "GET_TRAIN_QUERY = 'select * from train;'\n",
    "GET_LIKED_QUERY = 'select * from liked_songs_jt;'\n",
    "conn = sqlite3.connect(DB_FILE)\n",
    "\n",
    "train_df = pd.read_sql(GET_TRAIN_QUERY, conn)\n",
    "liked_df = pd.read_sql(GET_LIKED_QUERY, conn)\n",
    "\n",
    "num_likes = liked_df.shape[0]\n",
    "num_songs = train_df.shape[0]\n",
    "print(f\"\"\"\n",
    "    Liked songs: {num_likes}\n",
    "    Total songs: {num_songs}\n",
    "\"\"\")"
   ]
  },
  {
   "cell_type": "code",
   "execution_count": 3,
   "metadata": {},
   "outputs": [],
   "source": [
    "# Create feature matrix and target vector\n",
    "X = train_df.drop(['index', 'name', 'id', 'mode'], axis=1)\n",
    "y = pd.Series(\n",
    "    list(np.zeros(num_songs - num_likes, np.int64)) +\n",
    "    list(np.ones(num_likes, np.int64))\n",
    ")\n",
    "\n",
    "assert len(X) == len(y)"
   ]
  },
  {
   "cell_type": "code",
   "execution_count": 4,
   "metadata": {},
   "outputs": [
    {
     "data": {
      "text/plain": [
       "acousticness        0\n",
       "danceability        0\n",
       "duration_ms         0\n",
       "energy              0\n",
       "tempo               0\n",
       "instrumentalness    0\n",
       "key                 0\n",
       "liveness            0\n",
       "loudness            0\n",
       "valence             0\n",
       "speechiness         0\n",
       "dtype: int64"
      ]
     },
     "execution_count": 4,
     "metadata": {},
     "output_type": "execute_result"
    }
   ],
   "source": [
    "X.isnull().sum()"
   ]
  },
  {
   "cell_type": "code",
   "execution_count": 5,
   "metadata": {},
   "outputs": [
    {
     "data": {
      "text/plain": [
       "0    62.996094\n",
       "1    37.003906\n",
       "dtype: float64"
      ]
     },
     "execution_count": 5,
     "metadata": {},
     "output_type": "execute_result"
    }
   ],
   "source": [
    "y.value_counts(normalize=True) * 100"
   ]
  },
  {
   "cell_type": "code",
   "execution_count": 6,
   "metadata": {},
   "outputs": [
    {
     "data": {
      "text/html": [
       "<div>\n",
       "<style scoped>\n",
       "    .dataframe tbody tr th:only-of-type {\n",
       "        vertical-align: middle;\n",
       "    }\n",
       "\n",
       "    .dataframe tbody tr th {\n",
       "        vertical-align: top;\n",
       "    }\n",
       "\n",
       "    .dataframe thead th {\n",
       "        text-align: right;\n",
       "    }\n",
       "</style>\n",
       "<table border=\"1\" class=\"dataframe\">\n",
       "  <thead>\n",
       "    <tr style=\"text-align: right;\">\n",
       "      <th></th>\n",
       "      <th>acousticness</th>\n",
       "      <th>danceability</th>\n",
       "      <th>duration_ms</th>\n",
       "      <th>energy</th>\n",
       "      <th>tempo</th>\n",
       "      <th>instrumentalness</th>\n",
       "      <th>key</th>\n",
       "      <th>liveness</th>\n",
       "      <th>loudness</th>\n",
       "      <th>valence</th>\n",
       "      <th>speechiness</th>\n",
       "    </tr>\n",
       "  </thead>\n",
       "  <tbody>\n",
       "    <tr>\n",
       "      <th>count</th>\n",
       "      <td>15874.000000</td>\n",
       "      <td>15874.000000</td>\n",
       "      <td>1.587400e+04</td>\n",
       "      <td>15874.000000</td>\n",
       "      <td>15874.000000</td>\n",
       "      <td>15874.000000</td>\n",
       "      <td>15874.000000</td>\n",
       "      <td>15874.000000</td>\n",
       "      <td>15874.000000</td>\n",
       "      <td>15874.000000</td>\n",
       "      <td>15874.000000</td>\n",
       "    </tr>\n",
       "    <tr>\n",
       "      <th>mean</th>\n",
       "      <td>0.459044</td>\n",
       "      <td>0.569318</td>\n",
       "      <td>2.252684e+05</td>\n",
       "      <td>0.494837</td>\n",
       "      <td>117.251375</td>\n",
       "      <td>0.134743</td>\n",
       "      <td>5.226156</td>\n",
       "      <td>0.191452</td>\n",
       "      <td>-10.701819</td>\n",
       "      <td>0.523939</td>\n",
       "      <td>0.094003</td>\n",
       "    </tr>\n",
       "    <tr>\n",
       "      <th>std</th>\n",
       "      <td>0.358577</td>\n",
       "      <td>0.169377</td>\n",
       "      <td>1.078187e+05</td>\n",
       "      <td>0.249254</td>\n",
       "      <td>29.897410</td>\n",
       "      <td>0.276817</td>\n",
       "      <td>3.538558</td>\n",
       "      <td>0.159340</td>\n",
       "      <td>5.201994</td>\n",
       "      <td>0.254266</td>\n",
       "      <td>0.143338</td>\n",
       "    </tr>\n",
       "    <tr>\n",
       "      <th>min</th>\n",
       "      <td>0.000000</td>\n",
       "      <td>0.000000</td>\n",
       "      <td>5.108000e+03</td>\n",
       "      <td>0.000000</td>\n",
       "      <td>0.000000</td>\n",
       "      <td>0.000000</td>\n",
       "      <td>0.000000</td>\n",
       "      <td>0.000000</td>\n",
       "      <td>-60.000000</td>\n",
       "      <td>0.000000</td>\n",
       "      <td>0.000000</td>\n",
       "    </tr>\n",
       "    <tr>\n",
       "      <th>25%</th>\n",
       "      <td>0.095900</td>\n",
       "      <td>0.458000</td>\n",
       "      <td>1.736310e+05</td>\n",
       "      <td>0.295000</td>\n",
       "      <td>94.451000</td>\n",
       "      <td>0.000000</td>\n",
       "      <td>2.000000</td>\n",
       "      <td>0.098800</td>\n",
       "      <td>-13.538000</td>\n",
       "      <td>0.319000</td>\n",
       "      <td>0.034300</td>\n",
       "    </tr>\n",
       "    <tr>\n",
       "      <th>50%</th>\n",
       "      <td>0.428000</td>\n",
       "      <td>0.582000</td>\n",
       "      <td>2.097660e+05</td>\n",
       "      <td>0.490000</td>\n",
       "      <td>115.138000</td>\n",
       "      <td>0.000189</td>\n",
       "      <td>5.000000</td>\n",
       "      <td>0.127000</td>\n",
       "      <td>-9.790000</td>\n",
       "      <td>0.527000</td>\n",
       "      <td>0.045000</td>\n",
       "    </tr>\n",
       "    <tr>\n",
       "      <th>75%</th>\n",
       "      <td>0.822000</td>\n",
       "      <td>0.696000</td>\n",
       "      <td>2.543532e+05</td>\n",
       "      <td>0.692000</td>\n",
       "      <td>135.738500</td>\n",
       "      <td>0.060200</td>\n",
       "      <td>8.000000</td>\n",
       "      <td>0.230000</td>\n",
       "      <td>-6.827500</td>\n",
       "      <td>0.734000</td>\n",
       "      <td>0.079000</td>\n",
       "    </tr>\n",
       "    <tr>\n",
       "      <th>max</th>\n",
       "      <td>0.996000</td>\n",
       "      <td>0.977000</td>\n",
       "      <td>4.269407e+06</td>\n",
       "      <td>1.000000</td>\n",
       "      <td>217.943000</td>\n",
       "      <td>1.000000</td>\n",
       "      <td>11.000000</td>\n",
       "      <td>0.996000</td>\n",
       "      <td>0.878000</td>\n",
       "      <td>0.985000</td>\n",
       "      <td>0.969000</td>\n",
       "    </tr>\n",
       "  </tbody>\n",
       "</table>\n",
       "</div>"
      ],
      "text/plain": [
       "       acousticness  danceability   duration_ms        energy         tempo  \\\n",
       "count  15874.000000  15874.000000  1.587400e+04  15874.000000  15874.000000   \n",
       "mean       0.459044      0.569318  2.252684e+05      0.494837    117.251375   \n",
       "std        0.358577      0.169377  1.078187e+05      0.249254     29.897410   \n",
       "min        0.000000      0.000000  5.108000e+03      0.000000      0.000000   \n",
       "25%        0.095900      0.458000  1.736310e+05      0.295000     94.451000   \n",
       "50%        0.428000      0.582000  2.097660e+05      0.490000    115.138000   \n",
       "75%        0.822000      0.696000  2.543532e+05      0.692000    135.738500   \n",
       "max        0.996000      0.977000  4.269407e+06      1.000000    217.943000   \n",
       "\n",
       "       instrumentalness           key      liveness      loudness  \\\n",
       "count      15874.000000  15874.000000  15874.000000  15874.000000   \n",
       "mean           0.134743      5.226156      0.191452    -10.701819   \n",
       "std            0.276817      3.538558      0.159340      5.201994   \n",
       "min            0.000000      0.000000      0.000000    -60.000000   \n",
       "25%            0.000000      2.000000      0.098800    -13.538000   \n",
       "50%            0.000189      5.000000      0.127000     -9.790000   \n",
       "75%            0.060200      8.000000      0.230000     -6.827500   \n",
       "max            1.000000     11.000000      0.996000      0.878000   \n",
       "\n",
       "            valence   speechiness  \n",
       "count  15874.000000  15874.000000  \n",
       "mean       0.523939      0.094003  \n",
       "std        0.254266      0.143338  \n",
       "min        0.000000      0.000000  \n",
       "25%        0.319000      0.034300  \n",
       "50%        0.527000      0.045000  \n",
       "75%        0.734000      0.079000  \n",
       "max        0.985000      0.969000  "
      ]
     },
     "execution_count": 6,
     "metadata": {},
     "output_type": "execute_result"
    }
   ],
   "source": [
    "X.describe(include='all')"
   ]
  },
  {
   "cell_type": "code",
   "execution_count": 7,
   "metadata": {},
   "outputs": [
    {
     "name": "stdout",
     "output_type": "stream",
     "text": [
      "\n",
      "    X_train: (11111, 11)\n",
      "    X_test: (4763, 11)\n",
      "    y_train: (11111,)\n",
      "    y_test: (4763,)\n",
      "\n"
     ]
    }
   ],
   "source": [
    "X_train, X_test, y_train, y_test = train_test_split(\n",
    "    X, y, test_size=0.3\n",
    ")\n",
    "\n",
    "print(f\"\"\"\n",
    "    X_train: {X_train.shape}\n",
    "    X_test: {X_test.shape}\n",
    "    y_train: {y_train.shape}\n",
    "    y_test: {y_test.shape}\n",
    "\"\"\")"
   ]
  },
  {
   "cell_type": "code",
   "execution_count": 8,
   "metadata": {},
   "outputs": [],
   "source": [
    "# Feature selection\n",
    "selector = SelectKBest(f_classif, k=5)\n",
    "selector.fit(X_train, y_train)\n",
    "feature_mask = selector.get_support()"
   ]
  },
  {
   "cell_type": "code",
   "execution_count": 9,
   "metadata": {},
   "outputs": [
    {
     "name": "stdout",
     "output_type": "stream",
     "text": [
      "[189.80455189 650.90525285  58.59475335  27.4197593    4.27056359\n",
      " 295.72031626   0.92745185 163.70724726 345.39532521   5.54351338\n",
      "  10.46782438]\n",
      "(11111, 5)\n"
     ]
    },
    {
     "data": {
      "text/html": [
       "<div>\n",
       "<style scoped>\n",
       "    .dataframe tbody tr th:only-of-type {\n",
       "        vertical-align: middle;\n",
       "    }\n",
       "\n",
       "    .dataframe tbody tr th {\n",
       "        vertical-align: top;\n",
       "    }\n",
       "\n",
       "    .dataframe thead th {\n",
       "        text-align: right;\n",
       "    }\n",
       "</style>\n",
       "<table border=\"1\" class=\"dataframe\">\n",
       "  <thead>\n",
       "    <tr style=\"text-align: right;\">\n",
       "      <th></th>\n",
       "      <th>acousticness</th>\n",
       "      <th>danceability</th>\n",
       "      <th>instrumentalness</th>\n",
       "      <th>liveness</th>\n",
       "      <th>loudness</th>\n",
       "    </tr>\n",
       "  </thead>\n",
       "  <tbody>\n",
       "    <tr>\n",
       "      <th>14807</th>\n",
       "      <td>0.908</td>\n",
       "      <td>0.419</td>\n",
       "      <td>0.000005</td>\n",
       "      <td>0.3400</td>\n",
       "      <td>-19.387</td>\n",
       "    </tr>\n",
       "    <tr>\n",
       "      <th>3128</th>\n",
       "      <td>0.445</td>\n",
       "      <td>0.717</td>\n",
       "      <td>0.000005</td>\n",
       "      <td>0.0973</td>\n",
       "      <td>-6.598</td>\n",
       "    </tr>\n",
       "    <tr>\n",
       "      <th>9518</th>\n",
       "      <td>0.949</td>\n",
       "      <td>0.392</td>\n",
       "      <td>0.246000</td>\n",
       "      <td>0.0683</td>\n",
       "      <td>-16.603</td>\n",
       "    </tr>\n",
       "    <tr>\n",
       "      <th>7370</th>\n",
       "      <td>0.797</td>\n",
       "      <td>0.421</td>\n",
       "      <td>0.921000</td>\n",
       "      <td>0.2660</td>\n",
       "      <td>-14.332</td>\n",
       "    </tr>\n",
       "    <tr>\n",
       "      <th>2855</th>\n",
       "      <td>0.531</td>\n",
       "      <td>0.636</td>\n",
       "      <td>0.753000</td>\n",
       "      <td>0.3310</td>\n",
       "      <td>-13.228</td>\n",
       "    </tr>\n",
       "  </tbody>\n",
       "</table>\n",
       "</div>"
      ],
      "text/plain": [
       "       acousticness  danceability  instrumentalness  liveness  loudness\n",
       "14807         0.908         0.419          0.000005    0.3400   -19.387\n",
       "3128          0.445         0.717          0.000005    0.0973    -6.598\n",
       "9518          0.949         0.392          0.246000    0.0683   -16.603\n",
       "7370          0.797         0.421          0.921000    0.2660   -14.332\n",
       "2855          0.531         0.636          0.753000    0.3310   -13.228"
      ]
     },
     "execution_count": 9,
     "metadata": {},
     "output_type": "execute_result"
    }
   ],
   "source": [
    "print(selector.scores_)\n",
    "best_features = X_train.columns[feature_mask]\n",
    "\n",
    "X_train = X_train[list(best_features)]\n",
    "X_test = X_test[list(best_features)]\n",
    "\n",
    "print(X_train.shape)\n",
    "X_train.head()"
   ]
  },
  {
   "cell_type": "markdown",
   "metadata": {},
   "source": [
    "---\n",
    "## Model Selection and Evaluation"
   ]
  },
  {
   "cell_type": "code",
   "execution_count": 10,
   "metadata": {},
   "outputs": [],
   "source": [
    "gb_pipe = Pipeline(\n",
    "    [\n",
    "        ('scaler', StandardScaler()),\n",
    "        ('clf', GradientBoostingClassifier(warm_start=True))\n",
    "    ]\n",
    ")"
   ]
  },
  {
   "cell_type": "code",
   "execution_count": 11,
   "metadata": {},
   "outputs": [
    {
     "data": {
      "text/plain": [
       "GridSearchCV(estimator=Pipeline(steps=[('scaler', StandardScaler()),\n",
       "                                       ('clf',\n",
       "                                        GradientBoostingClassifier(warm_start=True))]),\n",
       "             n_jobs=-1,\n",
       "             param_grid={'clf__max_depth': [5, 10],\n",
       "                         'clf__n_estimators': [100, 500, 1000]})"
      ]
     },
     "execution_count": 11,
     "metadata": {},
     "output_type": "execute_result"
    }
   ],
   "source": [
    "gb_grid = {\n",
    "    'clf__n_estimators': [100, 500, 1000],\n",
    "    'clf__max_depth': [5, 10]\n",
    "}\n",
    "\n",
    "gb_gs = GridSearchCV(gb_pipe, gb_grid, n_jobs=-1)\n",
    "\n",
    "gb_gs.fit(X_train, y_train)"
   ]
  },
  {
   "cell_type": "code",
   "execution_count": 12,
   "metadata": {},
   "outputs": [
    {
     "name": "stdout",
     "output_type": "stream",
     "text": [
      "{'clf__max_depth': 10, 'clf__n_estimators': 1000}\n"
     ]
    }
   ],
   "source": [
    "print(gb_gs.best_params_)"
   ]
  },
  {
   "cell_type": "code",
   "execution_count": 13,
   "metadata": {},
   "outputs": [
    {
     "name": "stdout",
     "output_type": "stream",
     "text": [
      "{'ccp_alpha': 0.0, 'criterion': 'friedman_mse', 'init': None, 'learning_rate': 0.1, 'loss': 'deviance', 'max_depth': 10, 'max_features': None, 'max_leaf_nodes': None, 'min_impurity_decrease': 0.0, 'min_impurity_split': None, 'min_samples_leaf': 1, 'min_samples_split': 2, 'min_weight_fraction_leaf': 0.0, 'n_estimators': 1000, 'n_iter_no_change': None, 'random_state': None, 'subsample': 1.0, 'tol': 0.0001, 'validation_fraction': 0.1, 'verbose': 0, 'warm_start': True}\n"
     ]
    }
   ],
   "source": [
    "gb_pipe['clf'].n_estimators = 1000\n",
    "gb_pipe['clf'].max_depth = 10\n",
    "\n",
    "print(gb_pipe['clf'].get_params())"
   ]
  },
  {
   "cell_type": "code",
   "execution_count": 14,
   "metadata": {},
   "outputs": [
    {
     "name": "stdout",
     "output_type": "stream",
     "text": [
      "0.9896536212325686\n"
     ]
    }
   ],
   "source": [
    "scores = cross_val_score(gb_pipe, X_train, y_train, n_jobs=-1)\n",
    "print(scores.max())"
   ]
  },
  {
   "cell_type": "markdown",
   "metadata": {},
   "source": [
    "---\n",
    "## Save Model 1"
   ]
  },
  {
   "cell_type": "code",
   "execution_count": 15,
   "metadata": {},
   "outputs": [
    {
     "name": "stdout",
     "output_type": "stream",
     "text": [
      "Successfully saved the model.\n"
     ]
    }
   ],
   "source": [
    "MODEL_FILE = '../models/spotify_clf_model_1.sav'\n",
    "try:\n",
    "    pickle.dump(gb_pipe, open(MODEL_FILE, mode='wb'))\n",
    "    print('Successfully saved the model.')\n",
    "\n",
    "except:\n",
    "    print('Something went wrong saving the model.')"
   ]
  }
 ],
 "metadata": {
  "kernelspec": {
   "display_name": "Python 3",
   "language": "python",
   "name": "python3"
  },
  "language_info": {
   "codemirror_mode": {
    "name": "ipython",
    "version": 3
   },
   "file_extension": ".py",
   "mimetype": "text/x-python",
   "name": "python",
   "nbconvert_exporter": "python",
   "pygments_lexer": "ipython3",
   "version": "3.8.5"
  }
 },
 "nbformat": 4,
 "nbformat_minor": 2
}
