{
 "cells": [
  {
   "cell_type": "markdown",
   "metadata": {},
   "source": [
    "# Spotify Modeling\n",
    "**Jacob Torres**"
   ]
  },
  {
   "cell_type": "code",
   "execution_count": 1,
   "metadata": {},
   "outputs": [],
   "source": [
    "\"\"\"Imports\"\"\"\n",
    "\n",
    "# Data manipulation\n",
    "import numpy as np\n",
    "import pandas as pd\n",
    "import sqlite3\n",
    "\n",
    "# Modeling\n",
    "from sklearn.ensemble import GradientBoostingClassifier, RandomForestClassifier\n",
    "from sklearn.model_selection import GridSearchCV\n",
    "from sklearn.pipeline import make_pipeline\n",
    "from sklearn.preprocessing import StandardScaler"
   ]
  },
  {
   "cell_type": "markdown",
   "metadata": {},
   "source": [
    "---\n",
    "## Data Collection and Massaging"
   ]
  },
  {
   "cell_type": "code",
   "execution_count": 3,
   "metadata": {},
   "outputs": [
    {
     "name": "stdout",
     "output_type": "stream",
     "text": [
      "\n",
      "    Liked songs: 6509\n",
      "    Total songs: 16509\n",
      "\n"
     ]
    }
   ],
   "source": [
    "# Load song data from database\n",
    "DB_FILE = '../app/spotify_db.sqlite3'\n",
    "GET_TRAIN_QUERY = 'select * from train;'\n",
    "GET_LIKED_QUERY = 'select * from liked_songs_jt;'\n",
    "conn = sqlite3.connect(DB_FILE)\n",
    "\n",
    "train_df = pd.read_sql(GET_TRAIN_QUERY, conn)\n",
    "liked_df = pd.read_sql(GET_LIKED_QUERY, conn)\n",
    "\n",
    "num_likes = liked_df.shape[0]\n",
    "num_songs = train_df.shape[0]\n",
    "print(f\"\"\"\n",
    "    Liked songs: {num_likes}\n",
    "    Total songs: {num_songs}\n",
    "\"\"\")"
   ]
  },
  {
   "cell_type": "code",
   "execution_count": 9,
   "metadata": {},
   "outputs": [],
   "source": [
    "# Create feature matrix and target vector\n",
    "X = train_df.drop('index', axis=1)\n",
    "y = pd.Series(\n",
    "    list(np.zeros(num_songs - num_likes, np.int64)) +\n",
    "    list(np.ones(num_likes, np.int64))\n",
    ")\n",
    "\n",
    "assert len(X) == len(y)"
   ]
  },
  {
   "cell_type": "code",
   "execution_count": 12,
   "metadata": {},
   "outputs": [
    {
     "name": "stdout",
     "output_type": "stream",
     "text": [
      "Features: ['acousticness', 'danceability', 'duration_ms', 'energy', 'tempo', 'instrumentalness', 'key', 'liveness', 'loudness', 'mode', 'valence', 'speechiness']\n"
     ]
    }
   ],
   "source": [
    "print(f\"Features: {list(X.columns)}\")"
   ]
  },
  {
   "cell_type": "code",
   "execution_count": 14,
   "metadata": {},
   "outputs": [
    {
     "data": {
      "text/plain": [
       "0    60.573021\n",
       "1    39.426979\n",
       "dtype: float64"
      ]
     },
     "execution_count": 14,
     "metadata": {},
     "output_type": "execute_result"
    }
   ],
   "source": [
    "y.value_counts(normalize=True) * 100"
   ]
  },
  {
   "cell_type": "markdown",
   "metadata": {},
   "source": [
    "---\n",
    "## Model Building"
   ]
  },
  {
   "cell_type": "code",
   "execution_count": 33,
   "metadata": {},
   "outputs": [],
   "source": [
    "rf_pipe = make_pipeline(\n",
    "    StandardScaler(),\n",
    "    RandomForestClassifier(),\n",
    "    verbose=True\n",
    ")\n",
    "\n",
    "gb_pipe = make_pipeline(\n",
    "    StandardScaler(),\n",
    "    GradientBoostingClassifier(),\n",
    "    verbose=True\n",
    ")"
   ]
  },
  {
   "cell_type": "code",
   "execution_count": null,
   "metadata": {},
   "outputs": [],
   "source": []
  }
 ],
 "metadata": {
  "kernelspec": {
   "display_name": "Python 3",
   "language": "python",
   "name": "python3"
  },
  "language_info": {
   "codemirror_mode": {
    "name": "ipython",
    "version": 3
   },
   "file_extension": ".py",
   "mimetype": "text/x-python",
   "name": "python",
   "nbconvert_exporter": "python",
   "pygments_lexer": "ipython3",
   "version": "3.8.5"
  }
 },
 "nbformat": 4,
 "nbformat_minor": 2
}
